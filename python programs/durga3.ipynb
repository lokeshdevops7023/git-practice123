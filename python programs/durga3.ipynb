{
 "cells": [
  {
   "cell_type": "code",
   "execution_count": null,
   "metadata": {},
   "outputs": [],
   "source": [
    "a=1\n",
    "while(a!=10):\n",
    "    if(a%2!=0):\n",
    "        print(a)\n",
    "    a=a+1\n",
    "print(\"the num of odd nums\")"
   ]
  },
  {
   "cell_type": "code",
   "execution_count": null,
   "metadata": {},
   "outputs": [],
   "source": [
    "a=1\n",
    "c=0\n",
    "while(a!=101):\n",
    "    if (a%2!=0):\n",
    "        c=c+1\n",
    "    a=a+1\n",
    "print(\"the num of odd nums from 1 to 100 is\",c)"
   ]
  },
  {
   "cell_type": "code",
   "execution_count": null,
   "metadata": {},
   "outputs": [],
   "source": [
    "a=1\n",
    "while(a!=101):\n",
    "    if (a%2==0):\n",
    "        print(a)\n",
    "    a=a+1\n",
    "print(\"the num of even nums are\")\n"
   ]
  },
  {
   "cell_type": "code",
   "execution_count": null,
   "metadata": {},
   "outputs": [],
   "source": [
    "a=1\n",
    "c=0\n",
    "while(a!=101):\n",
    "    if (a%2==0):\n",
    "        c=c+1\n",
    "    a=a+1\n",
    "print(\"the even num from 1 to 100 is\",c)"
   ]
  },
  {
   "cell_type": "code",
   "execution_count": null,
   "metadata": {},
   "outputs": [],
   "source": [
    "a=int(input(\"enter num\"))\n",
    "d=a%2\n",
    "if(d%2>0):\n",
    "    print(\"odd num\")\n",
    "else:\n",
    "    print(\"even num\")"
   ]
  },
  {
   "cell_type": "code",
   "execution_count": null,
   "metadata": {},
   "outputs": [],
   "source": [
    "n=int(input(\"enter numbers : \"))\n",
    "revs=0\n",
    "while(n>0):\n",
    "    reminder=n%10\n",
    "    revs=(revs*10)+reminder\n",
    "    n=n//10\n",
    "print(\"revers of numbers are:\",revs)\n"
   ]
  },
  {
   "cell_type": "code",
   "execution_count": null,
   "metadata": {},
   "outputs": [],
   "source": [
    "n=int(input(\"enter number :\"))\n",
    "factorial=1\n",
    "for i in range(1,n+1):\n",
    "    factorial=factorial*i\n",
    "print(\"the factorial of\",n,\"is\")\n",
    "print(factorial)"
   ]
  },
  {
   "cell_type": "code",
   "execution_count": null,
   "metadata": {},
   "outputs": [],
   "source": [
    "number=int(input(\"enter the table number: \"))\n",
    "print(\"Welocme To The Multiplication Table\")\n",
    "for i in range(1,11):# it repeat the loop from 1 to 10 times\n",
    "    print(number,'*',i,'=',number*i)\n",
    "print(\"Multiplication Table is 3: 1,2,3,.........10\")"
   ]
  },
  {
   "cell_type": "code",
   "execution_count": null,
   "metadata": {},
   "outputs": [],
   "source": [
    "n=int(input(\"enter the value\"))\n",
    "c=0\n",
    "for i in range(1,n+1):\n",
    "    if(n%i==0):\n",
    "        c=c+1\n",
    "print(c)"
   ]
  },
  {
   "cell_type": "code",
   "execution_count": null,
   "metadata": {},
   "outputs": [],
   "source": [
    "#CONUT THE DIGITS OF NU\n",
    "n=123445675\n",
    "c=0\n",
    "while(n>0):\n",
    "    r=n%10\n",
    "    c=c+1\n",
    "    n=n//10\n",
    "print(c)"
   ]
  },
  {
   "cell_type": "code",
   "execution_count": null,
   "metadata": {},
   "outputs": [],
   "source": [
    "n=988\n",
    "sum=0\n",
    "while(n>0):\n",
    "    r=n%10\n",
    "    sum=sum+r\n",
    "    n=n//10\n",
    "print(sum)"
   ]
  },
  {
   "cell_type": "code",
   "execution_count": null,
   "metadata": {},
   "outputs": [],
   "source": [
    "n=988\n",
    "s=0\n",
    "while(n>0):\n",
    "    if(n==0 or s>9):\n",
    "        n=s\n",
    "        s=0\n",
    "    r=n%10\n",
    "    s=s+r\n",
    "    n=n//10\n",
    "print(\"singel digits num: \",s)"
   ]
  },
  {
   "cell_type": "code",
   "execution_count": null,
   "metadata": {},
   "outputs": [],
   "source": [
    "n=123\n",
    "s=0\n",
    "while(n>0):\n",
    "    r=n%10\n",
    "    s=s*10+r\n",
    "    n=n//10\n",
    "print(\"reverse: \",s)"
   ]
  },
  {
   "cell_type": "code",
   "execution_count": null,
   "metadata": {},
   "outputs": [],
   "source": [
    "n=156\n",
    "s=0\n",
    "temp=n\n",
    "while(n>0):\n",
    "    r=n%10\n",
    "    s=s*10+r\n",
    "    n=n//10\n",
    "if(s==temp):\n",
    "    print(\"pandrom\")\n",
    "else:\n",
    "    print(\"not\")"
   ]
  },
  {
   "cell_type": "code",
   "execution_count": 2,
   "metadata": {},
   "outputs": [],
   "source": [
    "def first_last6(nums):\n",
    "    if (nums[-1]==6 or nums[0]==6):\n",
    "        return True\n",
    "    else:\n",
    "        return False"
   ]
  },
  {
   "cell_type": "code",
   "execution_count": 4,
   "metadata": {},
   "outputs": [],
   "source": [
    "def first_last(nums):\n",
    "    if (len(nums)>=1 and nums[-1]==num[0]):\n",
    "        return True\n",
    "    else:\n",
    "        return False"
   ]
  },
  {
   "cell_type": "code",
   "execution_count": null,
   "metadata": {},
   "outputs": [],
   "source": []
  }
 ],
 "metadata": {
  "kernelspec": {
   "display_name": "Python 3",
   "language": "python",
   "name": "python3"
  },
  "language_info": {
   "codemirror_mode": {
    "name": "ipython",
    "version": 3
   },
   "file_extension": ".py",
   "mimetype": "text/x-python",
   "name": "python",
   "nbconvert_exporter": "python",
   "pygments_lexer": "ipython3",
   "version": "3.7.6"
  }
 },
 "nbformat": 4,
 "nbformat_minor": 4
}
