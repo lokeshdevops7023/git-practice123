{
 "cells": [
  {
   "cell_type": "markdown",
   "metadata": {},
   "source": [
    "# welocme to today class\n",
    "markdown is used for documante\n",
    "\n",
    "\n",
    ".# for heading\n"
   ]
  },
  {
   "cell_type": "markdown",
   "metadata": {},
   "source": [
    "### python keywords\n",
    "\n",
    "keywords means predefined words are reserved words\n",
    "\n",
    "ex:class,def,if,else etc...."
   ]
  },
  {
   "cell_type": "code",
   "execution_count": null,
   "metadata": {},
   "outputs": [],
   "source": [
    "import keyword\n",
    "print(keyword.kwlist)\n",
    "print(\"total keywords in python\",len(keyword.kwlist))"
   ]
  },
  {
   "cell_type": "markdown",
   "metadata": {},
   "source": [
    "### identifiers\n",
    "\n",
    "identifiers is a names for cretaing varibles names,class names,funtion names\n",
    "\n",
    "### rules for identifiers\n",
    "\n",
    "* A-Z,a-z,underscore,0-9\n",
    "\n",
    "* starts with character\n",
    "\n",
    "* dont allow the speical character except underscore\n",
    "\n",
    "* dont allow the identifiers names and predefimed names\n"
   ]
  },
  {
   "cell_type": "code",
   "execution_count": null,
   "metadata": {},
   "outputs": [],
   "source": [
    "a=10"
   ]
  },
  {
   "cell_type": "code",
   "execution_count": null,
   "metadata": {},
   "outputs": [],
   "source": [
    "1adef=10"
   ]
  },
  {
   "cell_type": "code",
   "execution_count": null,
   "metadata": {},
   "outputs": [],
   "source": [
    "asbf_123=100\n"
   ]
  },
  {
   "cell_type": "code",
   "execution_count": null,
   "metadata": {},
   "outputs": [],
   "source": [
    "a@1=10"
   ]
  },
  {
   "cell_type": "markdown",
   "metadata": {},
   "source": [
    "# variables datatypes\n",
    "\n",
    "variables is name for storing the data into memory\n",
    "\n",
    "datatype is specify the value type\n",
    "\n",
    "ex:int,float,char,str,boolean\n",
    "for finding datatype in python we use keyword type\n"
   ]
  },
  {
   "cell_type": "code",
   "execution_count": null,
   "metadata": {},
   "outputs": [],
   "source": [
    "a=100\n",
    "print(\"the value of a is\",a)\n",
    "print(\"the address of a is\",id(a))"
   ]
  },
  {
   "cell_type": "code",
   "execution_count": null,
   "metadata": {},
   "outputs": [],
   "source": [
    "b=100\n",
    "print(\"address of b is\",id(b))"
   ]
  },
  {
   "cell_type": "code",
   "execution_count": null,
   "metadata": {},
   "outputs": [],
   "source": [
    "a=123\n",
    "print(\"data type of a si\",type(a))"
   ]
  },
  {
   "cell_type": "code",
   "execution_count": null,
   "metadata": {},
   "outputs": [],
   "source": [
    "b=1.00\n",
    "c=12\n",
    "print(\"data type of b is\",type(b))\n",
    "print(\"data type of c is\",type(c))\n",
    "d=\"hello\"\n",
    "print(\"data type of d is\",type(d))"
   ]
  },
  {
   "cell_type": "markdown",
   "metadata": {},
   "source": [
    "### comment\n",
    "\n",
    "comment is a statemnet for understanding the code to developers\n",
    "\n",
    "single line comment is #\n",
    "\n",
    "for multline comment use \"\"\"\n",
    "\n",
    "\n"
   ]
  },
  {
   "cell_type": "code",
   "execution_count": null,
   "metadata": {},
   "outputs": [],
   "source": [
    "#this is a multiple program\n",
    "\"\"\"hello welcome to edho program\"\"\""
   ]
  },
  {
   "cell_type": "markdown",
   "metadata": {},
   "source": [
    "### python operaters\n",
    "\n",
    "arthmetic +,-,8,5,/,//\n",
    "\n",
    "logical and,are,not\n",
    "\n",
    "bitwise &,|,^, <<,>>\n",
    "\n",
    "assignment =,+=,-=,%=,/=\n",
    "\n",
    "membership in,not in\n",
    "\n",
    "\n"
   ]
  },
  {
   "cell_type": "code",
   "execution_count": null,
   "metadata": {},
   "outputs": [],
   "source": [
    "a=True\n",
    "b=False\n",
    "a and b"
   ]
  },
  {
   "cell_type": "code",
   "execution_count": null,
   "metadata": {},
   "outputs": [],
   "source": [
    "a=T\n",
    "b=T\n",
    "a or b\n"
   ]
  },
  {
   "cell_type": "code",
   "execution_count": null,
   "metadata": {},
   "outputs": [],
   "source": [
    "a=True\n",
    "b=True\n",
    "a or b"
   ]
  },
  {
   "cell_type": "code",
   "execution_count": null,
   "metadata": {},
   "outputs": [],
   "source": [
    "a=False\n",
    "not a\n"
   ]
  },
  {
   "cell_type": "markdown",
   "metadata": {},
   "source": [
    "# bitwise operator\n",
    "\n",
    "* it will convert digit format"
   ]
  },
  {
   "cell_type": "code",
   "execution_count": null,
   "metadata": {},
   "outputs": [],
   "source": [
    "a=5\n",
    "b=3\n",
    "print(\"the result of a and b is\",a&b)"
   ]
  },
  {
   "cell_type": "code",
   "execution_count": null,
   "metadata": {},
   "outputs": [],
   "source": [
    "a=5\n",
    "b=3\n",
    "print(\"the result of a xor b\",a^b)\n",
    "a<<b\n",
    "a>>b"
   ]
  },
  {
   "cell_type": "markdown",
   "metadata": {},
   "source": [
    "membership\n",
    "\n",
    "in\n",
    "\n",
    "notin"
   ]
  },
  {
   "cell_type": "markdown",
   "metadata": {},
   "source": [
    "identity operator\n",
    "\n",
    "is\n",
    "\n",
    "isnot"
   ]
  },
  {
   "cell_type": "code",
   "execution_count": null,
   "metadata": {},
   "outputs": [],
   "source": [
    "list=[1,2,3,4]\n",
    "\n",
    "if 1not in list:\n",
    "    print(\"yes\")\n",
    "    \n",
    "else:\n",
    "    print(\"no\")"
   ]
  },
  {
   "cell_type": "code",
   "execution_count": null,
   "metadata": {},
   "outputs": [],
   "source": [
    "s=\"hello\"\n",
    "\n",
    "\"hello\" is s\n",
    "\"e\" is not s"
   ]
  },
  {
   "cell_type": "markdown",
   "metadata": {},
   "source": [
    "### conditions\n",
    "\n",
    "*  if,esle,elseif,nestedif"
   ]
  },
  {
   "cell_type": "code",
   "execution_count": null,
   "metadata": {},
   "outputs": [],
   "source": [
    "a=100\n",
    "b=150\n",
    "\n",
    "if a==b:\n",
    "    print(\"true\")\n",
    "else:\n",
    "    print(\"false\")"
   ]
  },
  {
   "cell_type": "code",
   "execution_count": null,
   "metadata": {},
   "outputs": [],
   "source": [
    "if 1 and 1:\n",
    "    print(\"true\")\n",
    "    if True or False:\n",
    "        print(\"hrh\")\n",
    "else:\n",
    "    print(\"false\")"
   ]
  },
  {
   "cell_type": "code",
   "execution_count": null,
   "metadata": {},
   "outputs": [],
   "source": [
    "\n",
    "a=25\n",
    "b=10\n",
    "c=5\n",
    "\n",
    "if (a>=b) and (a>=c):\n",
    "    print(\"largest number is \",a)\n",
    "elif (b>=a) and (b>=c):\n",
    "    print(\"largest number is\",b)\n",
    "else:\n",
    "    print(\"largest number is\",c)"
   ]
  },
  {
   "cell_type": "code",
   "execution_count": null,
   "metadata": {},
   "outputs": [],
   "source": [
    "a=int (input(\"enter a value\"))\n",
    "b=float (input(\"enter b value\"))\n",
    "c=int (input(\"enter c vlaue\"))\n",
    " \n",
    "if (a>=b) and (a>=c):\n",
    "        print(\"largest num is\",a)\n",
    "elif(b>=a) and (b>=c):\n",
    "        print(\"largest num is\",b)\n",
    "else:\n",
    "        print(\"largest num is\",c)"
   ]
  },
  {
   "cell_type": "code",
   "execution_count": null,
   "metadata": {},
   "outputs": [],
   "source": [
    "a=20\n",
    "b=40\n",
    "a=a+b\n",
    "b=a-b\n",
    "a=a-b\n",
    "print(\"a is: \",a,\"b is: \",b)"
   ]
  },
  {
   "cell_type": "code",
   "execution_count": null,
   "metadata": {},
   "outputs": [],
   "source": [
    "a=20\n",
    "b=40\n",
    "a=a+b #20+40=60\n",
    "b=a-b #60-40=20\n",
    "a=a-b #60-20=40\n",
    "print(\"a is:\",a,\"b is :\",b)\n",
    "\n",
    "without using third variable\n"
   ]
  },
  {
   "cell_type": "code",
   "execution_count": null,
   "metadata": {},
   "outputs": [],
   "source": [
    "a=20\n",
    "b=40\n",
    "temp=a;\n",
    "a=b;\n",
    "b=temp;\n",
    "print(\"a is:\",a,\"b is: \",b)\n",
    "\n",
    "reverse using third variable temp"
   ]
  },
  {
   "cell_type": "code",
   "execution_count": null,
   "metadata": {},
   "outputs": [],
   "source": [
    "std=int(input(\"enter student marks\"))\n",
    "if std>=90 and std<=100:\n",
    "    print(\"distinct\")\n",
    "elif std>=70 and std<=90:\n",
    "    print(\"first\")\n",
    "elif std>=55 and std<=70:\n",
    "    print(\"second\")\n",
    "else:\n",
    "    print(\"fail\")\n"
   ]
  },
  {
   "cell_type": "markdown",
   "metadata": {},
   "source": [
    "### 5/5/2020\n",
    "\n",
    "loops"
   ]
  },
  {
   "cell_type": "code",
   "execution_count": null,
   "metadata": {},
   "outputs": [],
   "source": [
    "a=10\n",
    "print(\"the value of a is :\",a)"
   ]
  },
  {
   "cell_type": "code",
   "execution_count": null,
   "metadata": {},
   "outputs": [],
   "source": [
    "a=10\n",
    "print(\"the value of a is{}\".format(a))"
   ]
  },
  {
   "cell_type": "code",
   "execution_count": null,
   "metadata": {},
   "outputs": [],
   "source": [
    "a=100\n",
    "b=200\n",
    "print(\"the sum {} and {} is{}\".format(a,b,a+b)) # format(0.1.2.....)postions\n",
    "print(\"the sum of \",a,\"and\",b,\"is\",a+b)\n",
    "print(\"the sum{1} and {0} is{2}\".format(a,b,a+b)"
   ]
  },
  {
   "cell_type": "markdown",
   "metadata": {},
   "source": [
    "### loops are execute the multiple statements at a time.it break the program using some conditions\n",
    "\n",
    "while\n",
    "while(a!=10)\n",
    "//statement\n",
    "a=a+1\n",
    "for\n",
    "for(i=10;i<10;i++)"
   ]
  },
  {
   "cell_type": "code",
   "execution_count": null,
   "metadata": {},
   "outputs": [],
   "source": [
    "a=0\n",
    "while(a!=10):\n",
    "    print(a,end=\" \")\n",
    "    a=a+1 #a+=1\n",
    "    "
   ]
  },
  {
   "cell_type": "code",
   "execution_count": null,
   "metadata": {},
   "outputs": [],
   "source": [
    "print(\"even nums\")\n",
    "a=1\n",
    "while(a!=10):\n",
    "    if a%2==0:\n",
    "        print(a, end=\" \")\n",
    "    a=a+1\n",
    "print(\"odd nums from 0 to 10\")\n",
    "a=1\n",
    "while(a!=10):\n",
    "    if a%2!=0:\n",
    "        print(a,end=\" \")\n",
    "        a=a+1"
   ]
  },
  {
   "cell_type": "code",
   "execution_count": 1,
   "metadata": {},
   "outputs": [
    {
     "name": "stdout",
     "output_type": "stream",
     "text": [
      "1\n",
      "2\n",
      "3\n",
      "4\n",
      "5\n",
      "6\n",
      "7\n",
      "8\n",
      "9\n",
      "10\n",
      "11\n",
      "12\n",
      "13\n",
      "14\n",
      "15\n",
      "16\n",
      "17\n",
      "18\n",
      "19\n",
      "20\n",
      "21\n",
      "22\n",
      "23\n",
      "24\n",
      "25\n",
      "26\n",
      "27\n",
      "28\n",
      "29\n",
      "30\n",
      "31\n",
      "32\n",
      "33\n",
      "34\n",
      "35\n",
      "36\n",
      "37\n",
      "38\n",
      "39\n",
      "40\n",
      "41\n",
      "42\n",
      "43\n",
      "44\n",
      "45\n",
      "46\n",
      "47\n",
      "48\n",
      "49\n",
      "50\n",
      "51\n",
      "52\n",
      "53\n",
      "54\n",
      "55\n",
      "56\n",
      "57\n",
      "58\n",
      "59\n",
      "60\n",
      "61\n",
      "62\n",
      "63\n",
      "64\n",
      "65\n",
      "66\n",
      "67\n",
      "68\n",
      "69\n",
      "70\n",
      "71\n",
      "72\n",
      "73\n",
      "74\n",
      "75\n",
      "76\n",
      "77\n",
      "78\n",
      "79\n",
      "80\n",
      "81\n",
      "82\n",
      "83\n",
      "84\n",
      "85\n",
      "86\n",
      "87\n",
      "88\n",
      "89\n",
      "90\n",
      "91\n",
      "92\n",
      "93\n",
      "94\n",
      "95\n",
      "96\n",
      "97\n",
      "98\n",
      "99\n",
      "100\n",
      "the odd nums count form 1 to 100 is 100\n"
     ]
    }
   ],
   "source": [
    "a=1\n",
    "c=0\n",
    "while(a!=101):\n",
    "    if (a%2>=0):\n",
    "        print(a)\n",
    "        c=c+1\n",
    "    a=a+1\n",
    "print(\"the odd nums count form 1 to 100 is\",c)"
   ]
  },
  {
   "cell_type": "code",
   "execution_count": null,
   "metadata": {},
   "outputs": [],
   "source": [
    "a=1\n",
    "tsum=0\n",
    "osum=0\n",
    "esum=0\n",
    "while(a!=11):\n",
    "    tsum=tsum+a\n",
    "    if (a%2==0):\n",
    "        esum=esum+a\n",
    "    else:\n",
    "        osum=osum+a\n",
    "    a=a+1\n",
    "print(\"sum of total nums from 1 to 10 is\",tsum)\n",
    "print(\"sum of even nums from 1 to 10 is\",esum)\n",
    "print(\"sum of odd num from 1 to 10 is\",osum)"
   ]
  },
  {
   "cell_type": "code",
   "execution_count": null,
   "metadata": {},
   "outputs": [],
   "source": [
    "for i in range(10):\n",
    "    print(i, end=\" \")"
   ]
  },
  {
   "cell_type": "code",
   "execution_count": null,
   "metadata": {},
   "outputs": [],
   "source": [
    "for i in range(3,10):\n",
    "    print(i)"
   ]
  },
  {
   "cell_type": "markdown",
   "metadata": {},
   "source": [
    "### odd logic\n",
    "  mod=num%2\n",
    "  if mod>0"
   ]
  },
  {
   "cell_type": "code",
   "execution_count": null,
   "metadata": {},
   "outputs": [],
   "source": [
    "n=int(input(\"enter num\"))\n",
    "s=n%2\n",
    "if s>0:\n",
    "    print(\"odd num\")\n",
    "else:\n",
    "    print(\"even num\")"
   ]
  },
  {
   "cell_type": "code",
   "execution_count": null,
   "metadata": {},
   "outputs": [],
   "source": [
    "a=1\n",
    "c=0\n",
    "while(a!=101):\n",
    "    if(a%2>0):\n",
    "        print(a)\n",
    "    c=c+1\n",
    "    a=a+1\n",
    "    \n",
    "print(\"the num of odd num  from 1 to 100\",c)\n",
    "    "
   ]
  },
  {
   "cell_type": "code",
   "execution_count": null,
   "metadata": {},
   "outputs": [],
   "source": []
  }
 ],
 "metadata": {
  "kernelspec": {
   "display_name": "Python 3",
   "language": "python",
   "name": "python3"
  },
  "language_info": {
   "codemirror_mode": {
    "name": "ipython",
    "version": 3
   },
   "file_extension": ".py",
   "mimetype": "text/x-python",
   "name": "python",
   "nbconvert_exporter": "python",
   "pygments_lexer": "ipython3",
   "version": "3.7.6"
  }
 },
 "nbformat": 4,
 "nbformat_minor": 4
}
